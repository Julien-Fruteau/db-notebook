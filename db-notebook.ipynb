{
 "cells": [
  {
   "cell_type": "markdown",
   "metadata": {},
   "source": [
    "# SLQALCHEMY - PLAIN & SEMI PLAIN SQL"
   ]
  },
  {
   "cell_type": "code",
   "execution_count": 30,
   "metadata": {},
   "outputs": [],
   "source": [
    "from sqlalchemy import create_engine, Table, MetaData, Column, Integer, String, select, func, text"
   ]
  },
  {
   "cell_type": "markdown",
   "metadata": {},
   "source": [
    "## CONNECTION"
   ]
  },
  {
   "cell_type": "code",
   "execution_count": 31,
   "metadata": {},
   "outputs": [],
   "source": [
    "engine = create_engine(\"sqlite:///db/heroes.db\")"
   ]
  },
  {
   "cell_type": "code",
   "execution_count": 32,
   "metadata": {},
   "outputs": [],
   "source": [
    "connexion = engine.connect()"
   ]
  },
  {
   "cell_type": "markdown",
   "metadata": {},
   "source": [
    "## QUERY"
   ]
  },
  {
   "cell_type": "code",
   "execution_count": 33,
   "metadata": {},
   "outputs": [],
   "source": [
    "query = text(\"\"\"select * from heroes limit 10\"\"\")"
   ]
  },
  {
   "cell_type": "code",
   "execution_count": 34,
   "metadata": {},
   "outputs": [
    {
     "data": {
      "text/plain": [
       "[(1, 'Crareek'),\n",
       " (2, 'Tan'),\n",
       " (3, 'Huzzt'),\n",
       " (4, 'Pamble'),\n",
       " (5, 'Grimm'),\n",
       " (6, 'Jarboyd'),\n",
       " (7, 'Cyne'),\n",
       " (8, 'Wendner'),\n",
       " (9, 'Morbid'),\n",
       " (10, 'Grrdy')]"
      ]
     },
     "execution_count": 34,
     "metadata": {},
     "output_type": "execute_result"
    }
   ],
   "source": [
    "connexion.execute(query).fetchall()"
   ]
  },
  {
   "cell_type": "markdown",
   "metadata": {},
   "source": [
    "## METADATA"
   ]
  },
  {
   "cell_type": "code",
   "execution_count": 6,
   "metadata": {},
   "outputs": [],
   "source": [
    "metadata = MetaData(bind=connexion)"
   ]
  },
  {
   "cell_type": "markdown",
   "metadata": {},
   "source": [
    "> METADATA is used to store database object info/data, such as schema"
   ]
  },
  {
   "cell_type": "markdown",
   "metadata": {},
   "source": [
    "## TABLE\n",
    "\n",
    "- To get Column arguments such as nullable, unique, primary_key using sqlite vscode extension, connect to the db, and in sqlite explorer, hover the column to get them\n",
    "\n",
    "- Otherwise use sql browser"
   ]
  },
  {
   "cell_type": "code",
   "execution_count": 7,
   "metadata": {},
   "outputs": [],
   "source": [
    "heroes_table = Table('heroes', metadata, \n",
    "                     Column('hero_id', Integer, nullable=False, primary_key=True),\n",
    "                     Column('name', String(20), unique=True, nullable=False),\n",
    "                     extend_existing= True)"
   ]
  },
  {
   "cell_type": "markdown",
   "metadata": {},
   "source": [
    "## WHERE , ORDER BY"
   ]
  },
  {
   "cell_type": "markdown",
   "metadata": {},
   "source": []
  },
  {
   "cell_type": "code",
   "execution_count": 8,
   "metadata": {},
   "outputs": [
    {
     "data": {
      "text/plain": [
       "[(109, 'Chuz'),\n",
       " (42, 'Cinder'),\n",
       " (56, 'Cookerry'),\n",
       " (71, 'Cookie'),\n",
       " (38, 'Crane'),\n",
       " (1, 'Crareek'),\n",
       " (69, 'Crystal'),\n",
       " (7, 'Cyne')]"
      ]
     },
     "execution_count": 8,
     "metadata": {},
     "output_type": "execute_result"
    }
   ],
   "source": [
    "query = (select([heroes_table])\n",
    "            .where(heroes_table.c.name.startswith(\"C\"))\n",
    "            .order_by(heroes_table.c.name.asc()))\n",
    "connexion.execute(query).fetchall()"
   ]
  },
  {
   "cell_type": "markdown",
   "metadata": {},
   "source": [
    "## AND, OR operator"
   ]
  },
  {
   "cell_type": "code",
   "execution_count": 9,
   "metadata": {},
   "outputs": [
    {
     "data": {
      "text/plain": [
       "[(1, 'Crareek'), (7, 'Cyne'), (38, 'Crane'), (42, 'Cinder')]"
      ]
     },
     "execution_count": 9,
     "metadata": {},
     "output_type": "execute_result"
    }
   ],
   "source": [
    "query = (select([heroes_table])\n",
    "            .where(heroes_table.c.name.startswith(\"C\") & (heroes_table.c.hero_id < 50) )\n",
    "            .order_by(heroes_table.c.hero_id))\n",
    "connexion.execute(query).fetchall()"
   ]
  },
  {
   "cell_type": "code",
   "execution_count": 10,
   "metadata": {},
   "outputs": [
    {
     "data": {
      "text/plain": [
       "[(109, 'Chuz'),\n",
       " (42, 'Cinder'),\n",
       " (56, 'Cookerry'),\n",
       " (71, 'Cookie'),\n",
       " (38, 'Crane'),\n",
       " (1, 'Crareek'),\n",
       " (69, 'Crystal'),\n",
       " (7, 'Cyne'),\n",
       " (70, 'Pador'),\n",
       " (4, 'Pamble'),\n",
       " (28, 'Perabiel'),\n",
       " (32, 'Pierceslight'),\n",
       " (41, 'Pontihill')]"
      ]
     },
     "execution_count": 10,
     "metadata": {},
     "output_type": "execute_result"
    }
   ],
   "source": [
    "query = (select([heroes_table])\n",
    "            .where(heroes_table.c.name.startswith(\"C\") | (heroes_table.c.name.startswith(\"P\")) )\n",
    "            .order_by(heroes_table.c.name))\n",
    "connexion.execute(query).fetchall()"
   ]
  },
  {
   "cell_type": "markdown",
   "metadata": {},
   "source": [
    "## INSERT"
   ]
  },
  {
   "cell_type": "markdown",
   "metadata": {},
   "source": [
    "### INSERT SINGLE VALUE USING PLAIN TEXT"
   ]
  },
  {
   "cell_type": "markdown",
   "metadata": {},
   "source": [
    "> sqlachemy request text for plain text query, as deprecation notice effective in coming 2.0 release"
   ]
  },
  {
   "cell_type": "code",
   "execution_count": 54,
   "metadata": {},
   "outputs": [],
   "source": [
    "value = {\"name\": \"Toto\"}\n",
    "query = text(\"insert into heroes (name) values (:name)\")"
   ]
  },
  {
   "cell_type": "code",
   "execution_count": 17,
   "metadata": {},
   "outputs": [
    {
     "data": {
      "text/plain": [
       "<sqlalchemy.engine.cursor.LegacyCursorResult at 0x7facb83debc0>"
      ]
     },
     "execution_count": 17,
     "metadata": {},
     "output_type": "execute_result"
    }
   ],
   "source": [
    "connexion.execute(query, value)"
   ]
  },
  {
   "cell_type": "code",
   "execution_count": 104,
   "metadata": {},
   "outputs": [
    {
     "data": {
      "text/plain": [
       "[(123, 'Toto')]"
      ]
     },
     "execution_count": 104,
     "metadata": {},
     "output_type": "execute_result"
    }
   ],
   "source": [
    "query = text(\"select * from heroes where name = (:name)\")\n",
    "connexion.execute(query, value).fetchall()"
   ]
  },
  {
   "cell_type": "markdown",
   "metadata": {},
   "source": [
    "### INSERT MULTIPLE VALUES USING PLAIN TEXT QUERY"
   ]
  },
  {
   "cell_type": "code",
   "execution_count": 56,
   "metadata": {},
   "outputs": [],
   "source": [
    "values = [{\"name\": \"Titi\"}, {\"name\": \"Nemo\"}]\n",
    "query = text(\"insert into heroes (name) values (:name)\")"
   ]
  },
  {
   "cell_type": "code",
   "execution_count": 21,
   "metadata": {},
   "outputs": [
    {
     "data": {
      "text/plain": [
       "<sqlalchemy.engine.cursor.LegacyCursorResult at 0x7faca997afe0>"
      ]
     },
     "execution_count": 21,
     "metadata": {},
     "output_type": "execute_result"
    }
   ],
   "source": [
    "connexion.execute(query, values)"
   ]
  },
  {
   "cell_type": "markdown",
   "metadata": {},
   "source": [
    "#### VERIFY INSERTED VALUES"
   ]
  },
  {
   "cell_type": "code",
   "execution_count": 58,
   "metadata": {},
   "outputs": [
    {
     "name": "stdout",
     "output_type": "stream",
     "text": [
      "select * from heroes where name in ('Titi', 'Nemo', 'Toto')\n"
     ]
    }
   ],
   "source": [
    "txt_in = ', '.join([\"'{0}'\".format(v['name']) for v in [*values, value]])\n",
    "txt = f\"select * from heroes where name in ({txt_in})\"\n",
    "print(txt)"
   ]
  },
  {
   "cell_type": "markdown",
   "metadata": {},
   "source": [
    "> NB: it is important using plain text query to surround values with quotes"
   ]
  },
  {
   "cell_type": "code",
   "execution_count": 60,
   "metadata": {},
   "outputs": [],
   "source": [
    "verify_query = text(txt)"
   ]
  },
  {
   "cell_type": "code",
   "execution_count": 61,
   "metadata": {},
   "outputs": [
    {
     "data": {
      "text/plain": [
       "[(125, 'Nemo'), (124, 'Titi'), (123, 'Toto')]"
      ]
     },
     "execution_count": 61,
     "metadata": {},
     "output_type": "execute_result"
    }
   ],
   "source": [
    "connexion.execute(verify_query).fetchall()"
   ]
  },
  {
   "cell_type": "markdown",
   "metadata": {},
   "source": [
    "## DELETE"
   ]
  },
  {
   "cell_type": "markdown",
   "metadata": {},
   "source": [
    "### DELETE MULTIPLE VALUES USING PLAIN TEXT QUERY"
   ]
  },
  {
   "cell_type": "code",
   "execution_count": 62,
   "metadata": {},
   "outputs": [],
   "source": [
    "values = [{\"name\": \"Titi\"}, {\"name\": \"Toto\"}, {\"name\": \"Nemo\"}]\n",
    "query = text(\"delete from heroes where name = (:name)\")"
   ]
  },
  {
   "cell_type": "code",
   "execution_count": 63,
   "metadata": {},
   "outputs": [
    {
     "data": {
      "text/plain": [
       "<sqlalchemy.engine.cursor.LegacyCursorResult at 0x7fac95a633a0>"
      ]
     },
     "execution_count": 63,
     "metadata": {},
     "output_type": "execute_result"
    }
   ],
   "source": [
    "connexion.execute(query, values)"
   ]
  },
  {
   "cell_type": "markdown",
   "metadata": {},
   "source": [
    "#### VERIFY DELETED DATA"
   ]
  },
  {
   "cell_type": "code",
   "execution_count": 64,
   "metadata": {},
   "outputs": [],
   "source": [
    "verify_query = text(\"select * from heroes where name = (:name)\")\n",
    "assert not connexion.execute(verify_query, values).fetchall()"
   ]
  },
  {
   "cell_type": "markdown",
   "metadata": {},
   "source": [
    "## AGGREGATE DATA"
   ]
  },
  {
   "cell_type": "markdown",
   "metadata": {},
   "source": [
    "### Loop over results"
   ]
  },
  {
   "cell_type": "code",
   "execution_count": 24,
   "metadata": {},
   "outputs": [],
   "source": [
    "query = \"\"\"select * from heroes limit 10\"\"\"\n",
    "results = connexion.execute(query)"
   ]
  },
  {
   "cell_type": "code",
   "execution_count": 22,
   "metadata": {},
   "outputs": [
    {
     "name": "stdout",
     "output_type": "stream",
     "text": [
      "(1, 'Crareek')\n",
      "(2, 'Tan')\n",
      "(3, 'Huzzt')\n",
      "(4, 'Pamble')\n",
      "(5, 'Grimm')\n",
      "(6, 'Jarboyd')\n",
      "(7, 'Cyne')\n",
      "(8, 'Wendner')\n",
      "(9, 'Morbid')\n",
      "(10, 'Grrdy')\n"
     ]
    }
   ],
   "source": [
    "for row in results:\n",
    "    print(row)"
   ]
  },
  {
   "cell_type": "code",
   "execution_count": 58,
   "metadata": {},
   "outputs": [],
   "source": [
    "battle_events_table = Table('battle_events', metadata,\n",
    "                            Column('battle_event_id', Integer, primary_key=True, nullable=False),\n",
    "                            Column('battle_participant_id', Integer, nullable=False),\n",
    "                            Column('battle_event_type_id', Integer, nullable=False),\n",
    "                            Column('rubies_gained', Integer),\n",
    "                            Column('timestamp', Integer, nullable=False)\n",
    "                            )"
   ]
  },
  {
   "cell_type": "markdown",
   "metadata": {},
   "source": [
    "### FUNC"
   ]
  },
  {
   "cell_type": "markdown",
   "metadata": {},
   "source": [
    "#### FUNC SUM"
   ]
  },
  {
   "cell_type": "code",
   "execution_count": 63,
   "metadata": {},
   "outputs": [
    {
     "data": {
      "text/plain": [
       "72847"
      ]
     },
     "execution_count": 63,
     "metadata": {},
     "output_type": "execute_result"
    }
   ],
   "source": [
    "query = select([func.sum(battle_events_table.c.rubies_gained)])\n",
    "result = connexion.execute(query).scalar()\n",
    "result"
   ]
  },
  {
   "cell_type": "markdown",
   "metadata": {},
   "source": [
    "#### FUNC MAX"
   ]
  },
  {
   "cell_type": "code",
   "execution_count": 65,
   "metadata": {},
   "outputs": [
    {
     "data": {
      "text/plain": [
       "15"
      ]
     },
     "execution_count": 65,
     "metadata": {},
     "output_type": "execute_result"
    }
   ],
   "source": [
    "query = select([func.max(battle_events_table.c.rubies_gained)])\n",
    "result = connexion.execute(query)\n",
    "result.scalar()"
   ]
  },
  {
   "cell_type": "code",
   "execution_count": null,
   "metadata": {},
   "outputs": [],
   "source": []
  }
 ],
 "metadata": {
  "kernelspec": {
   "display_name": "Python 3.10.6 ('db-notebook-q5L_059y')",
   "language": "python",
   "name": "python3"
  },
  "language_info": {
   "codemirror_mode": {
    "name": "ipython",
    "version": 3
   },
   "file_extension": ".py",
   "mimetype": "text/x-python",
   "name": "python",
   "nbconvert_exporter": "python",
   "pygments_lexer": "ipython3",
   "version": "3.10.6"
  },
  "orig_nbformat": 4,
  "vscode": {
   "interpreter": {
    "hash": "0d4cbb1b2303760cfc125d39b0719c289364677d1ad2582d0adee23a32620513"
   }
  }
 },
 "nbformat": 4,
 "nbformat_minor": 2
}
