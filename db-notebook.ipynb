{
 "cells": [
  {
   "cell_type": "markdown",
   "metadata": {},
   "source": [
    "# SLQALCHEMY - PLAIN & SEMI PLAIN SQL"
   ]
  },
  {
   "cell_type": "code",
   "execution_count": 131,
   "metadata": {},
   "outputs": [],
   "source": [
    "from sqlalchemy import create_engine, Table, MetaData, Column, Integer, String, select, func, text, ForeignKey"
   ]
  },
  {
   "cell_type": "markdown",
   "metadata": {},
   "source": [
    "## CONNECTION"
   ]
  },
  {
   "cell_type": "code",
   "execution_count": 132,
   "metadata": {},
   "outputs": [],
   "source": [
    "engine = create_engine(\"sqlite:///db/heroes.db\")"
   ]
  },
  {
   "cell_type": "code",
   "execution_count": 133,
   "metadata": {},
   "outputs": [],
   "source": [
    "connexion = engine.connect()"
   ]
  },
  {
   "cell_type": "markdown",
   "metadata": {},
   "source": [
    "## QUERY"
   ]
  },
  {
   "cell_type": "code",
   "execution_count": 134,
   "metadata": {},
   "outputs": [],
   "source": [
    "query = text(\"\"\"select * from heroes limit 10\"\"\")"
   ]
  },
  {
   "cell_type": "code",
   "execution_count": 135,
   "metadata": {},
   "outputs": [
    {
     "data": {
      "text/plain": [
       "[(1, 'Crareek'),\n",
       " (2, 'Tan'),\n",
       " (3, 'Huzzt'),\n",
       " (4, 'Pamble'),\n",
       " (5, 'Grimm'),\n",
       " (6, 'Jarboyd'),\n",
       " (7, 'Cyne'),\n",
       " (8, 'Wendner'),\n",
       " (9, 'Morbid'),\n",
       " (10, 'Grrdy')]"
      ]
     },
     "execution_count": 135,
     "metadata": {},
     "output_type": "execute_result"
    }
   ],
   "source": [
    "connexion.execute(query).fetchall()"
   ]
  },
  {
   "cell_type": "markdown",
   "metadata": {},
   "source": [
    "## METADATA"
   ]
  },
  {
   "cell_type": "code",
   "execution_count": 136,
   "metadata": {},
   "outputs": [],
   "source": [
    "metadata = MetaData(bind=connexion)"
   ]
  },
  {
   "cell_type": "markdown",
   "metadata": {},
   "source": [
    "> METADATA is used to store database object info/data, such as schema"
   ]
  },
  {
   "cell_type": "markdown",
   "metadata": {},
   "source": [
    "## TABLE\n",
    "\n",
    "- To get Column arguments such as nullable, unique, primary_key using sqlite vscode extension, connect to the db, and in sqlite explorer, hover the column to get them\n",
    "\n",
    "- Otherwise use sql browser"
   ]
  },
  {
   "cell_type": "code",
   "execution_count": 137,
   "metadata": {},
   "outputs": [],
   "source": [
    "heroes_table = Table('heroes', metadata, \n",
    "                     Column('hero_id', Integer, nullable=False, primary_key=True),\n",
    "                     Column('name', String(20), unique=True, nullable=False),\n",
    "                     extend_existing= True)"
   ]
  },
  {
   "cell_type": "markdown",
   "metadata": {},
   "source": [
    "## WHERE , ORDER BY"
   ]
  },
  {
   "cell_type": "code",
   "execution_count": 138,
   "metadata": {},
   "outputs": [
    {
     "data": {
      "text/plain": [
       "[(109, 'Chuz'),\n",
       " (42, 'Cinder'),\n",
       " (56, 'Cookerry'),\n",
       " (71, 'Cookie'),\n",
       " (38, 'Crane'),\n",
       " (1, 'Crareek'),\n",
       " (69, 'Crystal'),\n",
       " (7, 'Cyne')]"
      ]
     },
     "execution_count": 138,
     "metadata": {},
     "output_type": "execute_result"
    }
   ],
   "source": [
    "query = (select([heroes_table])\n",
    "            .where(heroes_table.c.name.startswith(\"C\"))\n",
    "            .order_by(heroes_table.c.name.asc()))\n",
    "connexion.execute(query).fetchall()"
   ]
  },
  {
   "cell_type": "markdown",
   "metadata": {},
   "source": [
    "## AND, OR operator"
   ]
  },
  {
   "cell_type": "code",
   "execution_count": 139,
   "metadata": {},
   "outputs": [
    {
     "data": {
      "text/plain": [
       "[(1, 'Crareek'), (7, 'Cyne'), (38, 'Crane'), (42, 'Cinder')]"
      ]
     },
     "execution_count": 139,
     "metadata": {},
     "output_type": "execute_result"
    }
   ],
   "source": [
    "query = (select([heroes_table])\n",
    "            .where(heroes_table.c.name.startswith(\"C\") & (heroes_table.c.hero_id < 50) )\n",
    "            .order_by(heroes_table.c.hero_id))\n",
    "connexion.execute(query).fetchall()"
   ]
  },
  {
   "cell_type": "code",
   "execution_count": 140,
   "metadata": {},
   "outputs": [
    {
     "data": {
      "text/plain": [
       "[(109, 'Chuz'),\n",
       " (42, 'Cinder'),\n",
       " (56, 'Cookerry'),\n",
       " (71, 'Cookie'),\n",
       " (38, 'Crane'),\n",
       " (1, 'Crareek'),\n",
       " (69, 'Crystal'),\n",
       " (7, 'Cyne'),\n",
       " (70, 'Pador'),\n",
       " (4, 'Pamble'),\n",
       " (28, 'Perabiel'),\n",
       " (32, 'Pierceslight'),\n",
       " (41, 'Pontihill')]"
      ]
     },
     "execution_count": 140,
     "metadata": {},
     "output_type": "execute_result"
    }
   ],
   "source": [
    "query = (select([heroes_table])\n",
    "            .where(heroes_table.c.name.startswith(\"C\") | (heroes_table.c.name.startswith(\"P\")) )\n",
    "            .order_by(heroes_table.c.name))\n",
    "connexion.execute(query).fetchall()"
   ]
  },
  {
   "cell_type": "markdown",
   "metadata": {},
   "source": [
    "## INSERT"
   ]
  },
  {
   "cell_type": "markdown",
   "metadata": {},
   "source": [
    "### INSERT SINGLE VALUE USING PLAIN TEXT"
   ]
  },
  {
   "cell_type": "markdown",
   "metadata": {},
   "source": [
    "> sqlachemy request text for plain text query, as deprecation notice effective in coming 2.0 release"
   ]
  },
  {
   "cell_type": "code",
   "execution_count": 141,
   "metadata": {},
   "outputs": [],
   "source": [
    "value = {\"name\": \"Toto\"}\n",
    "query = text(\"insert into heroes (name) values (:name)\")"
   ]
  },
  {
   "cell_type": "code",
   "execution_count": 142,
   "metadata": {},
   "outputs": [
    {
     "data": {
      "text/plain": [
       "<sqlalchemy.engine.cursor.LegacyCursorResult at 0x7f6d82977100>"
      ]
     },
     "execution_count": 142,
     "metadata": {},
     "output_type": "execute_result"
    }
   ],
   "source": [
    "connexion.execute(query, value)"
   ]
  },
  {
   "cell_type": "code",
   "execution_count": 143,
   "metadata": {},
   "outputs": [
    {
     "data": {
      "text/plain": [
       "[(123, 'Toto')]"
      ]
     },
     "execution_count": 143,
     "metadata": {},
     "output_type": "execute_result"
    }
   ],
   "source": [
    "query = text(\"select * from heroes where name = (:name)\")\n",
    "connexion.execute(query, value).fetchall()"
   ]
  },
  {
   "cell_type": "markdown",
   "metadata": {},
   "source": [
    "### INSERT MULTIPLE VALUES USING PLAIN TEXT QUERY"
   ]
  },
  {
   "cell_type": "code",
   "execution_count": 144,
   "metadata": {},
   "outputs": [],
   "source": [
    "values = [{\"name\": \"Titi\"}, {\"name\": \"Nemo\"}]\n",
    "query = text(\"insert into heroes (name) values (:name)\")"
   ]
  },
  {
   "cell_type": "code",
   "execution_count": 145,
   "metadata": {},
   "outputs": [
    {
     "data": {
      "text/plain": [
       "<sqlalchemy.engine.cursor.LegacyCursorResult at 0x7f6d8e61ba90>"
      ]
     },
     "execution_count": 145,
     "metadata": {},
     "output_type": "execute_result"
    }
   ],
   "source": [
    "connexion.execute(query, values)"
   ]
  },
  {
   "cell_type": "markdown",
   "metadata": {},
   "source": [
    "#### VERIFY INSERTED VALUES"
   ]
  },
  {
   "cell_type": "code",
   "execution_count": 146,
   "metadata": {},
   "outputs": [
    {
     "name": "stdout",
     "output_type": "stream",
     "text": [
      "select * from heroes where name in ('Titi', 'Nemo', 'Toto')\n"
     ]
    }
   ],
   "source": [
    "txt_in = ', '.join([\"'{0}'\".format(v['name']) for v in [*values, value]])\n",
    "txt = f\"select * from heroes where name in ({txt_in})\"\n",
    "print(txt)"
   ]
  },
  {
   "cell_type": "markdown",
   "metadata": {},
   "source": [
    "> NB: it is important using plain text query to surround values with quotes"
   ]
  },
  {
   "cell_type": "code",
   "execution_count": 147,
   "metadata": {},
   "outputs": [],
   "source": [
    "verify_query = text(txt)"
   ]
  },
  {
   "cell_type": "code",
   "execution_count": 148,
   "metadata": {},
   "outputs": [
    {
     "data": {
      "text/plain": [
       "[(125, 'Nemo'), (124, 'Titi'), (123, 'Toto')]"
      ]
     },
     "execution_count": 148,
     "metadata": {},
     "output_type": "execute_result"
    }
   ],
   "source": [
    "connexion.execute(verify_query).fetchall()"
   ]
  },
  {
   "cell_type": "markdown",
   "metadata": {},
   "source": [
    "## DELETE"
   ]
  },
  {
   "cell_type": "markdown",
   "metadata": {},
   "source": [
    "### DELETE MULTIPLE VALUES USING PLAIN TEXT QUERY"
   ]
  },
  {
   "cell_type": "code",
   "execution_count": 149,
   "metadata": {},
   "outputs": [],
   "source": [
    "values = [{\"name\": \"Titi\"}, {\"name\": \"Toto\"}, {\"name\": \"Nemo\"}]\n",
    "query = text(\"delete from heroes where name = (:name)\")"
   ]
  },
  {
   "cell_type": "code",
   "execution_count": 150,
   "metadata": {},
   "outputs": [
    {
     "data": {
      "text/plain": [
       "<sqlalchemy.engine.cursor.LegacyCursorResult at 0x7f6d829b2d10>"
      ]
     },
     "execution_count": 150,
     "metadata": {},
     "output_type": "execute_result"
    }
   ],
   "source": [
    "connexion.execute(query, values)"
   ]
  },
  {
   "cell_type": "markdown",
   "metadata": {},
   "source": [
    "#### VERIFY DELETED DATA"
   ]
  },
  {
   "cell_type": "code",
   "execution_count": 151,
   "metadata": {},
   "outputs": [],
   "source": [
    "verify_query = text(\"select * from heroes where name = (:name)\")\n",
    "assert not connexion.execute(verify_query, values).fetchall()"
   ]
  },
  {
   "cell_type": "markdown",
   "metadata": {},
   "source": [
    "## AGGREGATE DATA"
   ]
  },
  {
   "cell_type": "markdown",
   "metadata": {},
   "source": [
    "### Loop over results"
   ]
  },
  {
   "cell_type": "code",
   "execution_count": 152,
   "metadata": {},
   "outputs": [],
   "source": [
    "query = \"\"\"select * from heroes limit 10\"\"\"\n",
    "results = connexion.execute(query)"
   ]
  },
  {
   "cell_type": "code",
   "execution_count": 153,
   "metadata": {},
   "outputs": [
    {
     "name": "stdout",
     "output_type": "stream",
     "text": [
      "(1, 'Crareek')\n",
      "(2, 'Tan')\n",
      "(3, 'Huzzt')\n",
      "(4, 'Pamble')\n",
      "(5, 'Grimm')\n",
      "(6, 'Jarboyd')\n",
      "(7, 'Cyne')\n",
      "(8, 'Wendner')\n",
      "(9, 'Morbid')\n",
      "(10, 'Grrdy')\n"
     ]
    }
   ],
   "source": [
    "for row in results:\n",
    "    print(row)"
   ]
  },
  {
   "cell_type": "code",
   "execution_count": 154,
   "metadata": {},
   "outputs": [],
   "source": [
    "battle_events_table = Table('battle_events', metadata,\n",
    "                            Column('battle_event_id', Integer, primary_key=True, nullable=False),\n",
    "                            Column('battle_participant_id', Integer, nullable=False),\n",
    "                            Column('battle_event_type_id', Integer, nullable=False),\n",
    "                            Column('rubies_gained', Integer),\n",
    "                            Column('timestamp', Integer, nullable=False)\n",
    "                            )"
   ]
  },
  {
   "cell_type": "markdown",
   "metadata": {},
   "source": [
    "### FUNC"
   ]
  },
  {
   "cell_type": "markdown",
   "metadata": {},
   "source": [
    "#### FUNC SUM"
   ]
  },
  {
   "cell_type": "code",
   "execution_count": 155,
   "metadata": {},
   "outputs": [
    {
     "data": {
      "text/plain": [
       "72847"
      ]
     },
     "execution_count": 155,
     "metadata": {},
     "output_type": "execute_result"
    }
   ],
   "source": [
    "query = select([func.sum(battle_events_table.c.rubies_gained)])\n",
    "result = connexion.execute(query).scalar()\n",
    "result"
   ]
  },
  {
   "cell_type": "markdown",
   "metadata": {},
   "source": [
    "#### FUNC MAX"
   ]
  },
  {
   "cell_type": "code",
   "execution_count": 156,
   "metadata": {},
   "outputs": [
    {
     "data": {
      "text/plain": [
       "15"
      ]
     },
     "execution_count": 156,
     "metadata": {},
     "output_type": "execute_result"
    }
   ],
   "source": [
    "query = select([func.max(battle_events_table.c.rubies_gained)])\n",
    "result = connexion.execute(query)\n",
    "result.scalar()"
   ]
  },
  {
   "cell_type": "markdown",
   "metadata": {},
   "source": [
    "### JOINING TABLES"
   ]
  },
  {
   "cell_type": "code",
   "execution_count": 157,
   "metadata": {},
   "outputs": [],
   "source": [
    "metadata.remove(battle_events_table)"
   ]
  },
  {
   "cell_type": "markdown",
   "metadata": {},
   "source": [
    "> NB: since battle_events table was not properlly definied, redo to include ForeignKey"
   ]
  },
  {
   "cell_type": "markdown",
   "metadata": {},
   "source": [
    "#### Foreign Key"
   ]
  },
  {
   "cell_type": "code",
   "execution_count": 158,
   "metadata": {},
   "outputs": [],
   "source": [
    "battle_events_table = Table(\"battle_events\", metadata,\n",
    "                            Column(\"battle_event_id\", Integer, nullable=False, primary_key=True),\n",
    "                            Column(\"battle_participant_id\", Integer, ForeignKey(\"battle_participants.battle.battle_participant_id\"), nullable=False),\n",
    "                            Column(\"battle_event_type_id\", Integer, ForeignKey(\"battle_event_type.battle_event_type_id\"), nullable=False),\n",
    "                            Column(\"rubies_gained\", Integer),\n",
    "                            Column(\"timestamp\", Integer, nullable=False))"
   ]
  },
  {
   "cell_type": "code",
   "execution_count": 159,
   "metadata": {},
   "outputs": [],
   "source": [
    "battle_participants_table = Table(\"battle_participants\", metadata,\n",
    "                                  Column(\"battle_participant_id\", Integer, nullable=False, primary_key=True),\n",
    "                                  Column(\"user_id\", Integer, ForeignKey(\"users.user_id\"), nullable=False),\n",
    "                                  Column(\"battle_id\", Integer, ForeignKey(\"battles.battle_id\"), nullable=False),\n",
    "                                  Column(\"hero_id\", Integer, ForeignKey(\"heroes.hero_id\"), nullable=False))"
   ]
  },
  {
   "cell_type": "markdown",
   "metadata": {},
   "source": [
    "> Joining data from `heroes`, `battle_events` and `battle_participants` tables"
   ]
  },
  {
   "cell_type": "code",
   "execution_count": 160,
   "metadata": {},
   "outputs": [],
   "source": [
    "join = (battle_participants_table\n",
    "    .join(battle_events_table,\n",
    "          battle_participants_table.c.battle_participant_id == battle_events_table.c.battle_participant_id)\n",
    "    .join(heroes_table,\n",
    "          battle_participants_table.c.hero_id == heroes_table.c.hero_id))"
   ]
  },
  {
   "cell_type": "markdown",
   "metadata": {},
   "source": [
    "> Query this join to select what hero had the most event in "
   ]
  },
  {
   "cell_type": "code",
   "execution_count": 161,
   "metadata": {},
   "outputs": [],
   "source": [
    "query = (select([heroes_table.c.name,\n",
    "                func.count(battle_events_table.c.battle_event_id).label('total_events')])\n",
    "         .select_from(join)\n",
    "         .group_by(heroes_table.c.name)\n",
    "         .order_by(Column(\"total_events\").desc()))"
   ]
  },
  {
   "cell_type": "code",
   "execution_count": 162,
   "metadata": {},
   "outputs": [
    {
     "data": {
      "text/plain": [
       "[('Crareek', 3687),\n",
       " ('Pamble', 2054),\n",
       " ('Huzzt', 2036),\n",
       " ('Tan', 1946),\n",
       " ('Grimm', 1820),\n",
       " ('Jade', 1780),\n",
       " ('Hillstomp', 1736),\n",
       " ('Mako', 1719),\n",
       " ('Grrdy', 1528)]"
      ]
     },
     "execution_count": 162,
     "metadata": {},
     "output_type": "execute_result"
    }
   ],
   "source": [
    "results = connexion.execute(query)\n",
    "results.fetchall()"
   ]
  },
  {
   "cell_type": "markdown",
   "metadata": {},
   "source": [
    "> From heroes Jade, Grimm, Mako, which of the three had the most hero kills\n",
    "\n",
    "- hero kill is a battle_events.battle_event_type_id of value 1 and name 'HERO_KILL'\n",
    "- the kills are represented by the entries in battle_events, which holds reference to the battle_event_type, and the hero_id which did won the battle"
   ]
  },
  {
   "cell_type": "code",
   "execution_count": 163,
   "metadata": {},
   "outputs": [],
   "source": [
    "battle_event_types_table = Table(\"battle_event_types\", metadata,\n",
    "                                Column(\"battle_event_type_id\", Integer, nullable=False, primary_key=True),\n",
    "                                Column(\"name\", String, nullable=False, unique=True))"
   ]
  },
  {
   "cell_type": "markdown",
   "metadata": {},
   "source": [
    "- Solution with reuse :"
   ]
  },
  {
   "cell_type": "code",
   "execution_count": 164,
   "metadata": {},
   "outputs": [],
   "source": [
    "join_bet_be_bp_h_1 = (battle_participants_table\n",
    "    .join(battle_events_table,\n",
    "          battle_participants_table.c.battle_participant_id == battle_events_table.c.battle_participant_id)\n",
    "    .join(heroes_table,\n",
    "          battle_participants_table.c.hero_id == heroes_table.c.hero_id)\n",
    "    .join(battle_event_types_table,\n",
    "          battle_event_types_table.c.battle_event_type_id == battle_events_table.c.battle_event_type_id))"
   ]
  },
  {
   "cell_type": "code",
   "execution_count": 165,
   "metadata": {},
   "outputs": [],
   "source": [
    "q = (select([heroes_table.c.name,\n",
    "            func.count(battle_events_table.c.battle_event_id).label('total_kills')])\n",
    "        .select_from(join_bet_be_bp_h_1)\n",
    "        .group_by(heroes_table.c.name)\n",
    "        .where(battle_event_types_table.c.name == \"HERO_KILL\")\n",
    "        .where((heroes_table.c.name == \"Jade\") | (heroes_table.c.name == \"Grimm\") | (heroes_table.c.name == \"Mako\"))\n",
    "        .order_by(Column(\"total_kills\").desc())\n",
    "     )"
   ]
  },
  {
   "cell_type": "code",
   "execution_count": 166,
   "metadata": {},
   "outputs": [
    {
     "data": {
      "text/plain": [
       "[('Grimm', 700), ('Jade', 372), ('Mako', 338)]"
      ]
     },
     "execution_count": 166,
     "metadata": {},
     "output_type": "execute_result"
    }
   ],
   "source": [
    "connexion.execute(q).fetchall()"
   ]
  },
  {
   "cell_type": "markdown",
   "metadata": {},
   "source": [
    "- Same solution with plain text sql query :"
   ]
  },
  {
   "cell_type": "code",
   "execution_count": 167,
   "metadata": {},
   "outputs": [],
   "source": [
    "join_bet_be_bp_h = \"\"\"select h.name, count(be.battle_event_id)\n",
    "    from heroes as h\n",
    "    inner join battle_participants as bp\n",
    "    on h.hero_id = bp.hero_id\n",
    "    inner join battle_events as be\n",
    "    on bp.battle_participant_id = be.battle_participant_id\n",
    "    inner join battle_event_types as bet\n",
    "    on be.battle_event_type_id = bet.battle_event_type_id\n",
    "    where bet.name = 'HERO_KILL' and (h.name = 'Grimm' or h.name = 'Jade' or h.name = 'Mako')\n",
    "    group by h.name\n",
    "    order by count(be.battle_event_id) desc\n",
    "    limit 1\n",
    "    \"\"\""
   ]
  },
  {
   "cell_type": "code",
   "execution_count": 168,
   "metadata": {},
   "outputs": [
    {
     "data": {
      "text/plain": [
       "[('Grimm', 700)]"
      ]
     },
     "execution_count": 168,
     "metadata": {},
     "output_type": "execute_result"
    }
   ],
   "source": [
    "connexion.execute(join_bet_be_bp_h).fetchall()"
   ]
  }
 ],
 "metadata": {
  "kernelspec": {
   "display_name": "Python 3.10.6 ('db-notebook-q5L_059y')",
   "language": "python",
   "name": "python3"
  },
  "language_info": {
   "codemirror_mode": {
    "name": "ipython",
    "version": 3
   },
   "file_extension": ".py",
   "mimetype": "text/x-python",
   "name": "python",
   "nbconvert_exporter": "python",
   "pygments_lexer": "ipython3",
   "version": "3.10.6"
  },
  "orig_nbformat": 4,
  "vscode": {
   "interpreter": {
    "hash": "0d4cbb1b2303760cfc125d39b0719c289364677d1ad2582d0adee23a32620513"
   }
  }
 },
 "nbformat": 4,
 "nbformat_minor": 2
}
